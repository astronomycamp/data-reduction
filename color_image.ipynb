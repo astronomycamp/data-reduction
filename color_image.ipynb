{
 "cells": [
  {
   "cell_type": "code",
   "execution_count": 1,
   "metadata": {},
   "outputs": [],
   "source": [
    "# Common plotting package within Python\n",
    "import matplotlib.pyplot as plt\n",
    "# Very useful package for data manipulation\n",
    "import numpy as np\n",
    "# Astropy has a lot of useful tools for astronomy\n",
    "# including reading in FITS files\n",
    "from astropy.io import fits"
   ]
  },
  {
   "cell_type": "code",
   "execution_count": 2,
   "metadata": {},
   "outputs": [],
   "source": [
    "# Collect file names and path for the RGB color images\n",
    "# Replace path names with your own\n",
    "path = '~/Documents/data/m57/'\n",
    "red = 'm57-0003R.fit'\n",
    "green = 'm57-0003G.fit'\n",
    "blue = 'm57-0003B.fit'"
   ]
  },
  {
   "cell_type": "code",
   "execution_count": 3,
   "metadata": {},
   "outputs": [],
   "source": [
    "# Read in all the data from the FITS files\n",
    "red_data = fits.getdata(path + red)\n",
    "green_data = fits.getdata(path + green)\n",
    "blue_data = fits.getdata(path + blue)"
   ]
  },
  {
   "cell_type": "code",
   "execution_count": 4,
   "metadata": {},
   "outputs": [],
   "source": [
    "# Image array and put it in form of NxNx3\n",
    "rgb_image = np.array([red_data, green_data, blue_data]).T\n",
    "# Normalize the image to be within 0 and 1\n",
    "rgb_image = rgb_image / np.max(rgb_image)"
   ]
  },
  {
   "cell_type": "code",
   "execution_count": 5,
   "metadata": {},
   "outputs": [],
   "source": [
    "# Imshow plots an image/array of format NxM (2D)\n",
    "plt.imshow(rgb_image, origin='lower', aspect='equal')\n",
    "plt.show()"
   ]
  }
 ],
 "metadata": {
  "kernelspec": {
   "display_name": "py312",
   "language": "python",
   "name": "python3"
  },
  "language_info": {
   "codemirror_mode": {
    "name": "ipython",
    "version": 3
   },
   "file_extension": ".py",
   "mimetype": "text/x-python",
   "name": "python",
   "nbconvert_exporter": "python",
   "pygments_lexer": "ipython3",
   "version": "3.12.3"
  }
 },
 "nbformat": 4,
 "nbformat_minor": 2
}
